{
  "nbformat": 4,
  "nbformat_minor": 0,
  "metadata": {
    "colab": {
      "provenance": [],
      "authorship_tag": "ABX9TyPPn/7p/q4wgzCB8YFWKnwA",
      "include_colab_link": true
    },
    "kernelspec": {
      "name": "python3",
      "display_name": "Python 3"
    },
    "language_info": {
      "name": "python"
    }
  },
  "cells": [
    {
      "cell_type": "markdown",
      "metadata": {
        "id": "view-in-github",
        "colab_type": "text"
      },
      "source": [
        "<a href=\"https://colab.research.google.com/github/CarohN/SQL-Project-/blob/main/Week_2_Project.ipynb\" target=\"_parent\"><img src=\"https://colab.research.google.com/assets/colab-badge.svg\" alt=\"Open In Colab\"/></a>"
      ]
    },
    {
      "cell_type": "code",
      "execution_count": 1,
      "metadata": {
        "id": "6H23TLKbxXHA"
      },
      "outputs": [],
      "source": [
        "%load_ext sql"
      ]
    },
    {
      "cell_type": "code",
      "source": [
        "%sql sqlite:///stud_db.db"
      ],
      "metadata": {
        "id": "Sf0pLs-rxrSM"
      },
      "execution_count": 2,
      "outputs": []
    },
    {
      "cell_type": "code",
      "source": [
        "%%sql CREATE TABLE personal_details (\n",
        "    national_ID INTEGER(15) ,\n",
        "    stud_ID VARCHAR(15),\n",
        "    stud_name VARCHAR(100),\n",
        "    phone_number VARCHAR(15),\n",
        "    age INTEGER,\n",
        "    gender VARCHAR(10),\n",
        "    PRIMARY KEY(national_ID) );"
      ],
      "metadata": {
        "colab": {
          "base_uri": "https://localhost:8080/"
        },
        "id": "7YNlC5QEyIxv",
        "outputId": "9748c259-ec03-46c5-d5a4-c1c20cf0e9d9"
      },
      "execution_count": 3,
      "outputs": [
        {
          "output_type": "stream",
          "name": "stdout",
          "text": [
            " * sqlite:///stud_db.db\n",
            "Done.\n"
          ]
        },
        {
          "output_type": "execute_result",
          "data": {
            "text/plain": [
              "[]"
            ]
          },
          "metadata": {},
          "execution_count": 3
        }
      ]
    },
    {
      "cell_type": "code",
      "source": [
        "%%sql INSERT INTO personal_details (national_ID,stud_ID,stud_name,phone_number,age,gender)\n",
        "VALUES(\"344534\",\"stud101\",\"Hermione Granger\" ,\"0712345678\",20,\"Male\"),\n",
        "(\"379683\",\"stud102\",\"Draco Malfo\" ,\"0723456781\",21,\"Female\"),\n",
        "(\"347403\",\"stud103\",\"Jayden Wamashati\" ,\"0734567812\",22,\"Male\"),\n",
        "(\"377302\",\"stud104\",\"Ron Weasley\" ,\"0745678123\",19,\"Female\"),\n",
        "(\"336741\",\"stud105\",\"Dolores Umbridge\" ,\"0756781234\",21,\"Male\"),\n",
        "(\"307243\",\"stud106\",\"Hedwig Tonks\" ,\"0767812345\",21,\"Female\"),\n",
        "(\"310932\",\"stud107\",\"Chao Chang\" ,\"0778123456\",22,\"Male\"),\n",
        "(\"343920\",\"stud108\",\"Curfew Yaeitpm\" ,\"0781234567\",20,\"Female\"),\n",
        "(\"345261\",\"stud109\",\"Chaptr Mukenya\" ,\"0722345678\",20,\"Male\"),\n",
        "(\"339152\",\"stud110\",\"Natalie Mpema\" ,\"0733456781\",21,\"Female\"),\n",
        "(\"339746\",\"stud111\",\"Crew Nundi\" ,\"0744567812\",20,\"Male\"),\n",
        "(\"336373\",\"stud112\",\"Bandi Kagunda\" ,\"0755678123\",22,\"Female\"),\n",
        "(\"325252\",\"stud113\",\"Testimony Omolo\" ,\"0766456781\",21,\"Male\"),\n",
        "(\"321746\",\"stud114\",\"Career Mpya\" ,\"0741367812\",20,\"Male\"),\n",
        "(\"390234\",\"stud115\",\"Deamon Anduro\" ,\"0744421123\",22,\"Female\");"
      ],
      "metadata": {
        "colab": {
          "base_uri": "https://localhost:8080/"
        },
        "id": "miIESD1lycO9",
        "outputId": "0ef7255d-f92c-411e-e2f1-e828fac5e202"
      },
      "execution_count": 4,
      "outputs": [
        {
          "output_type": "stream",
          "name": "stdout",
          "text": [
            " * sqlite:///stud_db.db\n",
            "15 rows affected.\n"
          ]
        },
        {
          "output_type": "execute_result",
          "data": {
            "text/plain": [
              "[]"
            ]
          },
          "metadata": {},
          "execution_count": 4
        }
      ]
    },
    {
      "cell_type": "code",
      "source": [
        "%%sql SELECT *\n",
        "FROM personal_details"
      ],
      "metadata": {
        "colab": {
          "base_uri": "https://localhost:8080/",
          "height": 388
        },
        "id": "-8bwjDRw7h6x",
        "outputId": "4e77c045-61ad-401e-8ace-7206c295bdf7"
      },
      "execution_count": 5,
      "outputs": [
        {
          "output_type": "stream",
          "name": "stdout",
          "text": [
            " * sqlite:///stud_db.db\n",
            "Done.\n"
          ]
        },
        {
          "output_type": "execute_result",
          "data": {
            "text/plain": [
              "[(344534, 'stud101', 'Hermione Granger', '0712345678', 20, 'Male'),\n",
              " (379683, 'stud102', 'Draco Malfo', '0723456781', 21, 'Female'),\n",
              " (347403, 'stud103', 'Jayden Wamashati', '0734567812', 22, 'Male'),\n",
              " (377302, 'stud104', 'Ron Weasley', '0745678123', 19, 'Female'),\n",
              " (336741, 'stud105', 'Dolores Umbridge', '0756781234', 21, 'Male'),\n",
              " (307243, 'stud106', 'Hedwig Tonks', '0767812345', 21, 'Female'),\n",
              " (310932, 'stud107', 'Chao Chang', '0778123456', 22, 'Male'),\n",
              " (343920, 'stud108', 'Curfew Yaeitpm', '0781234567', 20, 'Female'),\n",
              " (345261, 'stud109', 'Chaptr Mukenya', '0722345678', 20, 'Male'),\n",
              " (339152, 'stud110', 'Natalie Mpema', '0733456781', 21, 'Female'),\n",
              " (339746, 'stud111', 'Crew Nundi', '0744567812', 20, 'Male'),\n",
              " (336373, 'stud112', 'Bandi Kagunda', '0755678123', 22, 'Female'),\n",
              " (325252, 'stud113', 'Testimony Omolo', '0766456781', 21, 'Male'),\n",
              " (321746, 'stud114', 'Career Mpya', '0741367812', 20, 'Male'),\n",
              " (390234, 'stud115', 'Deamon Anduro', '0744421123', 22, 'Female')]"
            ],
            "text/html": [
              "<table>\n",
              "    <thead>\n",
              "        <tr>\n",
              "            <th>national_ID</th>\n",
              "            <th>stud_ID</th>\n",
              "            <th>stud_name</th>\n",
              "            <th>phone_number</th>\n",
              "            <th>age</th>\n",
              "            <th>gender</th>\n",
              "        </tr>\n",
              "    </thead>\n",
              "    <tbody>\n",
              "        <tr>\n",
              "            <td>344534</td>\n",
              "            <td>stud101</td>\n",
              "            <td>Hermione Granger</td>\n",
              "            <td>0712345678</td>\n",
              "            <td>20</td>\n",
              "            <td>Male</td>\n",
              "        </tr>\n",
              "        <tr>\n",
              "            <td>379683</td>\n",
              "            <td>stud102</td>\n",
              "            <td>Draco Malfo</td>\n",
              "            <td>0723456781</td>\n",
              "            <td>21</td>\n",
              "            <td>Female</td>\n",
              "        </tr>\n",
              "        <tr>\n",
              "            <td>347403</td>\n",
              "            <td>stud103</td>\n",
              "            <td>Jayden Wamashati</td>\n",
              "            <td>0734567812</td>\n",
              "            <td>22</td>\n",
              "            <td>Male</td>\n",
              "        </tr>\n",
              "        <tr>\n",
              "            <td>377302</td>\n",
              "            <td>stud104</td>\n",
              "            <td>Ron Weasley</td>\n",
              "            <td>0745678123</td>\n",
              "            <td>19</td>\n",
              "            <td>Female</td>\n",
              "        </tr>\n",
              "        <tr>\n",
              "            <td>336741</td>\n",
              "            <td>stud105</td>\n",
              "            <td>Dolores Umbridge</td>\n",
              "            <td>0756781234</td>\n",
              "            <td>21</td>\n",
              "            <td>Male</td>\n",
              "        </tr>\n",
              "        <tr>\n",
              "            <td>307243</td>\n",
              "            <td>stud106</td>\n",
              "            <td>Hedwig Tonks</td>\n",
              "            <td>0767812345</td>\n",
              "            <td>21</td>\n",
              "            <td>Female</td>\n",
              "        </tr>\n",
              "        <tr>\n",
              "            <td>310932</td>\n",
              "            <td>stud107</td>\n",
              "            <td>Chao Chang</td>\n",
              "            <td>0778123456</td>\n",
              "            <td>22</td>\n",
              "            <td>Male</td>\n",
              "        </tr>\n",
              "        <tr>\n",
              "            <td>343920</td>\n",
              "            <td>stud108</td>\n",
              "            <td>Curfew Yaeitpm</td>\n",
              "            <td>0781234567</td>\n",
              "            <td>20</td>\n",
              "            <td>Female</td>\n",
              "        </tr>\n",
              "        <tr>\n",
              "            <td>345261</td>\n",
              "            <td>stud109</td>\n",
              "            <td>Chaptr Mukenya</td>\n",
              "            <td>0722345678</td>\n",
              "            <td>20</td>\n",
              "            <td>Male</td>\n",
              "        </tr>\n",
              "        <tr>\n",
              "            <td>339152</td>\n",
              "            <td>stud110</td>\n",
              "            <td>Natalie Mpema</td>\n",
              "            <td>0733456781</td>\n",
              "            <td>21</td>\n",
              "            <td>Female</td>\n",
              "        </tr>\n",
              "        <tr>\n",
              "            <td>339746</td>\n",
              "            <td>stud111</td>\n",
              "            <td>Crew Nundi</td>\n",
              "            <td>0744567812</td>\n",
              "            <td>20</td>\n",
              "            <td>Male</td>\n",
              "        </tr>\n",
              "        <tr>\n",
              "            <td>336373</td>\n",
              "            <td>stud112</td>\n",
              "            <td>Bandi Kagunda</td>\n",
              "            <td>0755678123</td>\n",
              "            <td>22</td>\n",
              "            <td>Female</td>\n",
              "        </tr>\n",
              "        <tr>\n",
              "            <td>325252</td>\n",
              "            <td>stud113</td>\n",
              "            <td>Testimony Omolo</td>\n",
              "            <td>0766456781</td>\n",
              "            <td>21</td>\n",
              "            <td>Male</td>\n",
              "        </tr>\n",
              "        <tr>\n",
              "            <td>321746</td>\n",
              "            <td>stud114</td>\n",
              "            <td>Career Mpya</td>\n",
              "            <td>0741367812</td>\n",
              "            <td>20</td>\n",
              "            <td>Male</td>\n",
              "        </tr>\n",
              "        <tr>\n",
              "            <td>390234</td>\n",
              "            <td>stud115</td>\n",
              "            <td>Deamon Anduro</td>\n",
              "            <td>0744421123</td>\n",
              "            <td>22</td>\n",
              "            <td>Female</td>\n",
              "        </tr>\n",
              "    </tbody>\n",
              "</table>"
            ]
          },
          "metadata": {},
          "execution_count": 5
        }
      ]
    },
    {
      "cell_type": "code",
      "source": [
        "%%sql CREATE TABLE school_details(\n",
        "    stud_ID VARCHAR(15),\n",
        "    current_home_county VARCHAR(20),\n",
        "    secondary_school_county VARCHAR(20),\n",
        "    residence VARCHAR(15),\n",
        "    stud_email VARCHAR(50),\n",
        "    PRIMARY KEY (stud_ID)\n",
        "    );"
      ],
      "metadata": {
        "colab": {
          "base_uri": "https://localhost:8080/"
        },
        "id": "_Wne4eu-ygpt",
        "outputId": "3d0f39f7-5cef-40ac-9081-1c5a0855d766"
      },
      "execution_count": 6,
      "outputs": [
        {
          "output_type": "stream",
          "name": "stdout",
          "text": [
            " * sqlite:///stud_db.db\n",
            "Done.\n"
          ]
        },
        {
          "output_type": "execute_result",
          "data": {
            "text/plain": [
              "[]"
            ]
          },
          "metadata": {},
          "execution_count": 6
        }
      ]
    },
    {
      "cell_type": "code",
      "source": [
        "%%sql INSERT INTO school_details(stud_ID)\n",
        "SELECT stud_ID\n",
        "FROM personal_details;"
      ],
      "metadata": {
        "colab": {
          "base_uri": "https://localhost:8080/"
        },
        "id": "Vwf9OwNKyvG1",
        "outputId": "119512b1-77ae-44a1-91b1-5459bdc96f81"
      },
      "execution_count": 7,
      "outputs": [
        {
          "output_type": "stream",
          "name": "stdout",
          "text": [
            " * sqlite:///stud_db.db\n",
            "15 rows affected.\n"
          ]
        },
        {
          "output_type": "execute_result",
          "data": {
            "text/plain": [
              "[]"
            ]
          },
          "metadata": {},
          "execution_count": 7
        }
      ]
    },
    {
      "cell_type": "code",
      "source": [
        "%%sql UPDATE school_details\n",
        "SET stud_email = (SELECT REPLACE(stud_name, ' ', '') || '@zinduaschool.ac'\n",
        "                  FROM personal_details\n",
        "                  WHERE school_details.stud_ID = personal_details.stud_ID);\n"
      ],
      "metadata": {
        "colab": {
          "base_uri": "https://localhost:8080/"
        },
        "id": "Xx1oYyDSy6cg",
        "outputId": "1f6bb28c-6386-4494-f45f-cc43eb70ab35"
      },
      "execution_count": 8,
      "outputs": [
        {
          "output_type": "stream",
          "name": "stdout",
          "text": [
            " * sqlite:///stud_db.db\n",
            "15 rows affected.\n"
          ]
        },
        {
          "output_type": "execute_result",
          "data": {
            "text/plain": [
              "[]"
            ]
          },
          "metadata": {},
          "execution_count": 8
        }
      ]
    },
    {
      "cell_type": "code",
      "source": [
        "%%sql UPDATE school_details SET current_home_county=\"Nakuru\", secondary_school_county=\"Nairobi\", residence=\"In school\" WHERE stud_ID=\"stud101\";\n",
        "UPDATE school_details SET current_home_county=\"Nairobi\", secondary_school_county=\"Nakuru\", residence=\"In school\" WHERE stud_ID=\"stud102\";\n",
        "UPDATE school_details SET current_home_county=\"Samburu\", secondary_school_county=\"Nairobi\", residence=\"Out of school\" WHERE stud_ID=\"stud103\";\n",
        "UPDATE school_details SET current_home_county=\"Kericho\", secondary_school_county=\"Nairobi\", residence=\"In school\" WHERE stud_ID=\"stud104\";\n",
        "UPDATE school_details SET current_home_county=\"Nyamira\", secondary_school_county=\"Nakuru\", residence=\"In school\" WHERE stud_ID=\"stud105\";\n",
        "UPDATE school_details SET current_home_county=\"Kisumu\", secondary_school_county=\"Nairobi\", residence=\"Out of school\" WHERE stud_ID=\"stud106\";\n",
        "UPDATE school_details SET current_home_county=\"Nakuru\", secondary_school_county=\"Nairobi\", residence=\"Out of school\" WHERE stud_ID=\"stud107\";\n",
        "UPDATE school_details SET current_home_county=\"Kisumu\", secondary_school_county=\"Mombasa\", residence=\"Out of school\" WHERE stud_ID=\"stud108\";\n",
        "UPDATE school_details SET current_home_county=\"Kericho\", secondary_school_county=\"Mombasa\", residence=\"In school\" WHERE stud_ID=\"stud109\";\n",
        "UPDATE school_details SET current_home_county=\"Nakuru\", secondary_school_county=\"Mombasa\", residence=\"In school\" WHERE stud_ID=\"stud110\";\n",
        "UPDATE school_details SET current_home_county=\"Kiambu\", secondary_school_county=\"Turkana\", residence=\"In school\" WHERE stud_ID=\"stud111\";\n",
        "UPDATE school_details SET current_home_county=\"Nairobi\", secondary_school_county=\"Nakuru\", residence=\"In school\" WHERE stud_ID=\"stud112\";\n",
        "UPDATE school_details SET current_home_county=\"Samburu\", secondary_school_county=\"Taita Taveta\", residence=\"In school\" WHERE stud_ID=\"stud113\";\n",
        "UPDATE school_details SET current_home_county=\"Kericho\", secondary_school_county=\"Nairobi\", residence=\"Out of school\" WHERE stud_ID=\"stud114\";\n",
        "UPDATE school_details SET current_home_county=\"Kiambu\", secondary_school_county=\"Mombasa\", residence=\"In school\" WHERE stud_ID=\"stud115\";"
      ],
      "metadata": {
        "id": "31vIX8Fu0GvS"
      },
      "execution_count": null,
      "outputs": []
    },
    {
      "cell_type": "code",
      "source": [
        "%%sql SELECT *\n",
        "FROM school_details"
      ],
      "metadata": {
        "colab": {
          "base_uri": "https://localhost:8080/",
          "height": 388
        },
        "id": "0u8h45S07vts",
        "outputId": "d7c3196e-c70e-4d1a-a8f3-7f35d2ee1f99"
      },
      "execution_count": 10,
      "outputs": [
        {
          "output_type": "stream",
          "name": "stdout",
          "text": [
            " * sqlite:///stud_db.db\n",
            "Done.\n"
          ]
        },
        {
          "output_type": "execute_result",
          "data": {
            "text/plain": [
              "[('stud101', 'Nakuru', 'Nairobi', 'In school', 'HermioneGranger@zinduaschool.ac'),\n",
              " ('stud102', 'Nairobi', 'Nakuru', 'In school', 'DracoMalfo@zinduaschool.ac'),\n",
              " ('stud103', 'Samburu', 'Nairobi', 'Out of school', 'JaydenWamashati@zinduaschool.ac'),\n",
              " ('stud104', 'Kericho', 'Nairobi', 'In school', 'RonWeasley@zinduaschool.ac'),\n",
              " ('stud105', 'Nyamira', 'Nakuru', 'In school', 'DoloresUmbridge@zinduaschool.ac'),\n",
              " ('stud106', 'Kisumu', 'Nairobi', 'Out of school', 'HedwigTonks@zinduaschool.ac'),\n",
              " ('stud107', 'Nakuru', 'Nairobi', 'Out of school', 'ChaoChang@zinduaschool.ac'),\n",
              " ('stud108', 'Kisumu', 'Mombasa', 'Out of school', 'CurfewYaeitpm@zinduaschool.ac'),\n",
              " ('stud109', 'Kericho', 'Mombasa', 'In school', 'ChaptrMukenya@zinduaschool.ac'),\n",
              " ('stud110', 'Nakuru', 'Mombasa', 'In school', 'NatalieMpema@zinduaschool.ac'),\n",
              " ('stud111', 'Kiambu', 'Turkana', 'In school', 'CrewNundi@zinduaschool.ac'),\n",
              " ('stud112', 'Nairobi', 'Nakuru', 'In school', 'BandiKagunda@zinduaschool.ac'),\n",
              " ('stud113', 'Samburu', 'Taita Taveta', 'In school', 'TestimonyOmolo@zinduaschool.ac'),\n",
              " ('stud114', 'Kericho', 'Nairobi', 'Out of school', 'CareerMpya@zinduaschool.ac'),\n",
              " ('stud115', 'Kiambu', 'Mombasa', 'In school', 'DeamonAnduro@zinduaschool.ac')]"
            ],
            "text/html": [
              "<table>\n",
              "    <thead>\n",
              "        <tr>\n",
              "            <th>stud_ID</th>\n",
              "            <th>current_home_county</th>\n",
              "            <th>secondary_school_county</th>\n",
              "            <th>residence</th>\n",
              "            <th>stud_email</th>\n",
              "        </tr>\n",
              "    </thead>\n",
              "    <tbody>\n",
              "        <tr>\n",
              "            <td>stud101</td>\n",
              "            <td>Nakuru</td>\n",
              "            <td>Nairobi</td>\n",
              "            <td>In school</td>\n",
              "            <td>HermioneGranger@zinduaschool.ac</td>\n",
              "        </tr>\n",
              "        <tr>\n",
              "            <td>stud102</td>\n",
              "            <td>Nairobi</td>\n",
              "            <td>Nakuru</td>\n",
              "            <td>In school</td>\n",
              "            <td>DracoMalfo@zinduaschool.ac</td>\n",
              "        </tr>\n",
              "        <tr>\n",
              "            <td>stud103</td>\n",
              "            <td>Samburu</td>\n",
              "            <td>Nairobi</td>\n",
              "            <td>Out of school</td>\n",
              "            <td>JaydenWamashati@zinduaschool.ac</td>\n",
              "        </tr>\n",
              "        <tr>\n",
              "            <td>stud104</td>\n",
              "            <td>Kericho</td>\n",
              "            <td>Nairobi</td>\n",
              "            <td>In school</td>\n",
              "            <td>RonWeasley@zinduaschool.ac</td>\n",
              "        </tr>\n",
              "        <tr>\n",
              "            <td>stud105</td>\n",
              "            <td>Nyamira</td>\n",
              "            <td>Nakuru</td>\n",
              "            <td>In school</td>\n",
              "            <td>DoloresUmbridge@zinduaschool.ac</td>\n",
              "        </tr>\n",
              "        <tr>\n",
              "            <td>stud106</td>\n",
              "            <td>Kisumu</td>\n",
              "            <td>Nairobi</td>\n",
              "            <td>Out of school</td>\n",
              "            <td>HedwigTonks@zinduaschool.ac</td>\n",
              "        </tr>\n",
              "        <tr>\n",
              "            <td>stud107</td>\n",
              "            <td>Nakuru</td>\n",
              "            <td>Nairobi</td>\n",
              "            <td>Out of school</td>\n",
              "            <td>ChaoChang@zinduaschool.ac</td>\n",
              "        </tr>\n",
              "        <tr>\n",
              "            <td>stud108</td>\n",
              "            <td>Kisumu</td>\n",
              "            <td>Mombasa</td>\n",
              "            <td>Out of school</td>\n",
              "            <td>CurfewYaeitpm@zinduaschool.ac</td>\n",
              "        </tr>\n",
              "        <tr>\n",
              "            <td>stud109</td>\n",
              "            <td>Kericho</td>\n",
              "            <td>Mombasa</td>\n",
              "            <td>In school</td>\n",
              "            <td>ChaptrMukenya@zinduaschool.ac</td>\n",
              "        </tr>\n",
              "        <tr>\n",
              "            <td>stud110</td>\n",
              "            <td>Nakuru</td>\n",
              "            <td>Mombasa</td>\n",
              "            <td>In school</td>\n",
              "            <td>NatalieMpema@zinduaschool.ac</td>\n",
              "        </tr>\n",
              "        <tr>\n",
              "            <td>stud111</td>\n",
              "            <td>Kiambu</td>\n",
              "            <td>Turkana</td>\n",
              "            <td>In school</td>\n",
              "            <td>CrewNundi@zinduaschool.ac</td>\n",
              "        </tr>\n",
              "        <tr>\n",
              "            <td>stud112</td>\n",
              "            <td>Nairobi</td>\n",
              "            <td>Nakuru</td>\n",
              "            <td>In school</td>\n",
              "            <td>BandiKagunda@zinduaschool.ac</td>\n",
              "        </tr>\n",
              "        <tr>\n",
              "            <td>stud113</td>\n",
              "            <td>Samburu</td>\n",
              "            <td>Taita Taveta</td>\n",
              "            <td>In school</td>\n",
              "            <td>TestimonyOmolo@zinduaschool.ac</td>\n",
              "        </tr>\n",
              "        <tr>\n",
              "            <td>stud114</td>\n",
              "            <td>Kericho</td>\n",
              "            <td>Nairobi</td>\n",
              "            <td>Out of school</td>\n",
              "            <td>CareerMpya@zinduaschool.ac</td>\n",
              "        </tr>\n",
              "        <tr>\n",
              "            <td>stud115</td>\n",
              "            <td>Kiambu</td>\n",
              "            <td>Mombasa</td>\n",
              "            <td>In school</td>\n",
              "            <td>DeamonAnduro@zinduaschool.ac</td>\n",
              "        </tr>\n",
              "    </tbody>\n",
              "</table>"
            ]
          },
          "metadata": {},
          "execution_count": 10
        }
      ]
    },
    {
      "cell_type": "code",
      "source": [
        "%%sql CREATE TABLE contact_details (stud_email VARCHAR(50) PRIMARY KEY, phone_number VARCHAR(15), next_of_kin_name VARCHAR(50),next_of_kin_relation VARCHAR(10), next_of_kin_contacts VARCHAR(13) );\n",
        "INSERT INTO contact_details(phone_number, next_of_kin_name,next_of_kin_relation,next_of_kin_contacts)\n",
        "VALUES(\"0712345678\",\"Darius Young\",\"Father\",\"0782382383\"),\n",
        "(\"0723456781\",\"Lucy Nderitu\",\"Mother\",\"0723238983\"),\n",
        "(\"0734567812\",\"Jerotich Koech\",\"Mother\",\"0779343126\"),\n",
        "(\"0745678123\",\"Mwaura Mwangi\",\"Father\",\"0798246347\"),\n",
        "(\"0756781234\",\"Ian Patrick\",\"Father\",\"0711234453\"),\n",
        "(\"0767812345\",\"Lebron James\",\"Father\",\"0765439233\"),\n",
        "(\"0778123456\",\"Magna Carter\",\"Father\",\"0702526243\"),\n",
        "(\"0781234567\",\"Cindy Wayne\",\"Mother\",\"0747282839\"),\n",
        "(\"0722345678\",\"Farah Maalim\",\"Mother\",\"0753927482\"),\n",
        "(\"0733456781\",\"Faiba Mbugua\",\"Father\",\"0713245748\"),\n",
        "(\"0744567812\",\"John Doe\",\"Father\",\"0725737383\"),\n",
        "(\"0755678123\",\"Klaus Michealson\",\"Father\",\"0789346276\"),\n",
        "(\"0766456781\",\"Suluhu Amdany\",\"Mother\",\"0785739259\"),\n",
        "(\"0741367812\",\"Daisy Auma\",\"Mother\",\"0791344537\"),\n",
        "(\"0755421123\",\"Getrude Karen\",\"Mother\",\"0765748244\");"
      ],
      "metadata": {
        "colab": {
          "base_uri": "https://localhost:8080/"
        },
        "id": "spbmTSzk3e7I",
        "outputId": "46607f34-2137-4113-c5c7-c49ff1a3eef9"
      },
      "execution_count": 11,
      "outputs": [
        {
          "output_type": "stream",
          "name": "stdout",
          "text": [
            " * sqlite:///stud_db.db\n",
            "Done.\n",
            "15 rows affected.\n"
          ]
        },
        {
          "output_type": "execute_result",
          "data": {
            "text/plain": [
              "[]"
            ]
          },
          "metadata": {},
          "execution_count": 11
        }
      ]
    },
    {
      "cell_type": "code",
      "source": [
        "%%sql UPDATE contact_details\n",
        "SET stud_email = (SELECT school_details.stud_email\n",
        "FROM school_details, personal_details\n",
        "WHERE school_details.stud_ID = personal_details.stud_ID\n",
        "AND personal_details.phone_number = contact_details.phone_number);"
      ],
      "metadata": {
        "colab": {
          "base_uri": "https://localhost:8080/"
        },
        "id": "OR3zyVjy33Rn",
        "outputId": "0d87ba1d-eda2-4ee5-ea98-bf65b463dd3e"
      },
      "execution_count": 12,
      "outputs": [
        {
          "output_type": "stream",
          "name": "stdout",
          "text": [
            " * sqlite:///stud_db.db\n",
            "15 rows affected.\n"
          ]
        },
        {
          "output_type": "execute_result",
          "data": {
            "text/plain": [
              "[]"
            ]
          },
          "metadata": {},
          "execution_count": 12
        }
      ]
    },
    {
      "cell_type": "code",
      "source": [
        "%%sql SELECT *\n",
        "FROM contact_details"
      ],
      "metadata": {
        "colab": {
          "base_uri": "https://localhost:8080/",
          "height": 388
        },
        "id": "u-RJwwDT7-a1",
        "outputId": "46f9a1c8-17b0-4de7-ae0c-e47d3aa6c618"
      },
      "execution_count": 13,
      "outputs": [
        {
          "output_type": "stream",
          "name": "stdout",
          "text": [
            " * sqlite:///stud_db.db\n",
            "Done.\n"
          ]
        },
        {
          "output_type": "execute_result",
          "data": {
            "text/plain": [
              "[('HermioneGranger@zinduaschool.ac', '0712345678', 'Darius Young', 'Father', '0782382383'),\n",
              " ('DracoMalfo@zinduaschool.ac', '0723456781', 'Lucy Nderitu', 'Mother', '0723238983'),\n",
              " ('JaydenWamashati@zinduaschool.ac', '0734567812', 'Jerotich Koech', 'Mother', '0779343126'),\n",
              " ('RonWeasley@zinduaschool.ac', '0745678123', 'Mwaura Mwangi', 'Father', '0798246347'),\n",
              " ('DoloresUmbridge@zinduaschool.ac', '0756781234', 'Ian Patrick', 'Father', '0711234453'),\n",
              " ('HedwigTonks@zinduaschool.ac', '0767812345', 'Lebron James', 'Father', '0765439233'),\n",
              " ('ChaoChang@zinduaschool.ac', '0778123456', 'Magna Carter', 'Father', '0702526243'),\n",
              " ('CurfewYaeitpm@zinduaschool.ac', '0781234567', 'Cindy Wayne', 'Mother', '0747282839'),\n",
              " ('ChaptrMukenya@zinduaschool.ac', '0722345678', 'Farah Maalim', 'Mother', '0753927482'),\n",
              " ('NatalieMpema@zinduaschool.ac', '0733456781', 'Faiba Mbugua', 'Father', '0713245748'),\n",
              " ('CrewNundi@zinduaschool.ac', '0744567812', 'John Doe', 'Father', '0725737383'),\n",
              " ('BandiKagunda@zinduaschool.ac', '0755678123', 'Klaus Michealson', 'Father', '0789346276'),\n",
              " ('TestimonyOmolo@zinduaschool.ac', '0766456781', 'Suluhu Amdany', 'Mother', '0785739259'),\n",
              " ('CareerMpya@zinduaschool.ac', '0741367812', 'Daisy Auma', 'Mother', '0791344537'),\n",
              " (None, '0755421123', 'Getrude Karen', 'Mother', '0765748244')]"
            ],
            "text/html": [
              "<table>\n",
              "    <thead>\n",
              "        <tr>\n",
              "            <th>stud_email</th>\n",
              "            <th>phone_number</th>\n",
              "            <th>next_of_kin_name</th>\n",
              "            <th>next_of_kin_relation</th>\n",
              "            <th>next_of_kin_contacts</th>\n",
              "        </tr>\n",
              "    </thead>\n",
              "    <tbody>\n",
              "        <tr>\n",
              "            <td>HermioneGranger@zinduaschool.ac</td>\n",
              "            <td>0712345678</td>\n",
              "            <td>Darius Young</td>\n",
              "            <td>Father</td>\n",
              "            <td>0782382383</td>\n",
              "        </tr>\n",
              "        <tr>\n",
              "            <td>DracoMalfo@zinduaschool.ac</td>\n",
              "            <td>0723456781</td>\n",
              "            <td>Lucy Nderitu</td>\n",
              "            <td>Mother</td>\n",
              "            <td>0723238983</td>\n",
              "        </tr>\n",
              "        <tr>\n",
              "            <td>JaydenWamashati@zinduaschool.ac</td>\n",
              "            <td>0734567812</td>\n",
              "            <td>Jerotich Koech</td>\n",
              "            <td>Mother</td>\n",
              "            <td>0779343126</td>\n",
              "        </tr>\n",
              "        <tr>\n",
              "            <td>RonWeasley@zinduaschool.ac</td>\n",
              "            <td>0745678123</td>\n",
              "            <td>Mwaura Mwangi</td>\n",
              "            <td>Father</td>\n",
              "            <td>0798246347</td>\n",
              "        </tr>\n",
              "        <tr>\n",
              "            <td>DoloresUmbridge@zinduaschool.ac</td>\n",
              "            <td>0756781234</td>\n",
              "            <td>Ian Patrick</td>\n",
              "            <td>Father</td>\n",
              "            <td>0711234453</td>\n",
              "        </tr>\n",
              "        <tr>\n",
              "            <td>HedwigTonks@zinduaschool.ac</td>\n",
              "            <td>0767812345</td>\n",
              "            <td>Lebron James</td>\n",
              "            <td>Father</td>\n",
              "            <td>0765439233</td>\n",
              "        </tr>\n",
              "        <tr>\n",
              "            <td>ChaoChang@zinduaschool.ac</td>\n",
              "            <td>0778123456</td>\n",
              "            <td>Magna Carter</td>\n",
              "            <td>Father</td>\n",
              "            <td>0702526243</td>\n",
              "        </tr>\n",
              "        <tr>\n",
              "            <td>CurfewYaeitpm@zinduaschool.ac</td>\n",
              "            <td>0781234567</td>\n",
              "            <td>Cindy Wayne</td>\n",
              "            <td>Mother</td>\n",
              "            <td>0747282839</td>\n",
              "        </tr>\n",
              "        <tr>\n",
              "            <td>ChaptrMukenya@zinduaschool.ac</td>\n",
              "            <td>0722345678</td>\n",
              "            <td>Farah Maalim</td>\n",
              "            <td>Mother</td>\n",
              "            <td>0753927482</td>\n",
              "        </tr>\n",
              "        <tr>\n",
              "            <td>NatalieMpema@zinduaschool.ac</td>\n",
              "            <td>0733456781</td>\n",
              "            <td>Faiba Mbugua</td>\n",
              "            <td>Father</td>\n",
              "            <td>0713245748</td>\n",
              "        </tr>\n",
              "        <tr>\n",
              "            <td>CrewNundi@zinduaschool.ac</td>\n",
              "            <td>0744567812</td>\n",
              "            <td>John Doe</td>\n",
              "            <td>Father</td>\n",
              "            <td>0725737383</td>\n",
              "        </tr>\n",
              "        <tr>\n",
              "            <td>BandiKagunda@zinduaschool.ac</td>\n",
              "            <td>0755678123</td>\n",
              "            <td>Klaus Michealson</td>\n",
              "            <td>Father</td>\n",
              "            <td>0789346276</td>\n",
              "        </tr>\n",
              "        <tr>\n",
              "            <td>TestimonyOmolo@zinduaschool.ac</td>\n",
              "            <td>0766456781</td>\n",
              "            <td>Suluhu Amdany</td>\n",
              "            <td>Mother</td>\n",
              "            <td>0785739259</td>\n",
              "        </tr>\n",
              "        <tr>\n",
              "            <td>CareerMpya@zinduaschool.ac</td>\n",
              "            <td>0741367812</td>\n",
              "            <td>Daisy Auma</td>\n",
              "            <td>Mother</td>\n",
              "            <td>0791344537</td>\n",
              "        </tr>\n",
              "        <tr>\n",
              "            <td>None</td>\n",
              "            <td>0755421123</td>\n",
              "            <td>Getrude Karen</td>\n",
              "            <td>Mother</td>\n",
              "            <td>0765748244</td>\n",
              "        </tr>\n",
              "    </tbody>\n",
              "</table>"
            ]
          },
          "metadata": {},
          "execution_count": 13
        }
      ]
    },
    {
      "cell_type": "code",
      "source": [
        "%%sql CREATE TABLE financial_details (\n",
        "    stud_ID VARCHAR(15) ,\n",
        "    stud_name VARCHAR(50) ,\n",
        "sem_fee INTEGER(6) ,\n",
        "fee_paid INTEGER(6),\n",
        "PRIMARY KEY(stud_ID) );\n"
      ],
      "metadata": {
        "colab": {
          "base_uri": "https://localhost:8080/"
        },
        "id": "7VVAGlNX4ES6",
        "outputId": "30be177c-0100-49c1-a76b-60d1a6e7da2a"
      },
      "execution_count": 14,
      "outputs": [
        {
          "output_type": "stream",
          "name": "stdout",
          "text": [
            " * sqlite:///stud_db.db\n",
            "Done.\n"
          ]
        },
        {
          "output_type": "execute_result",
          "data": {
            "text/plain": [
              "[]"
            ]
          },
          "metadata": {},
          "execution_count": 14
        }
      ]
    },
    {
      "cell_type": "code",
      "source": [
        "%%sql INSERT INTO financial_details(stud_ID,stud_name)\n",
        "SELECT personal_details.stud_ID, personal_details.stud_name\n",
        "FROM personal_details;"
      ],
      "metadata": {
        "colab": {
          "base_uri": "https://localhost:8080/"
        },
        "id": "QAhXbpwq4P77",
        "outputId": "67c13a4f-412c-41ce-d4cd-59314af8fc59"
      },
      "execution_count": 15,
      "outputs": [
        {
          "output_type": "stream",
          "name": "stdout",
          "text": [
            " * sqlite:///stud_db.db\n",
            "15 rows affected.\n"
          ]
        },
        {
          "output_type": "execute_result",
          "data": {
            "text/plain": [
              "[]"
            ]
          },
          "metadata": {},
          "execution_count": 15
        }
      ]
    },
    {
      "cell_type": "code",
      "source": [
        "%%sql UPDATE financial_details SET sem_fee = 25000, fee_paid=25000 WHERE stud_ID = \"stud101\";\n",
        "UPDATE financial_details SET sem_fee= 25000, fee_paid=19000 WHERE stud_ID = \"stud102\";\n",
        "UPDATE financial_details SET sem_fee= 21900, fee_paid=20000 WHERE stud_ID = \"stud103\";\n",
        "UPDATE financial_details SET sem_fee= 22000, fee_paid=22000 WHERE stud_ID = \"stud104\";\n",
        "UPDATE financial_details SET sem_fee= 25000, fee_paid=23400 WHERE stud_ID = \"stud105\";\n",
        "UPDATE financial_details SET sem_fee= 25000, fee_paid=27000 WHERE stud_ID = \"stud106\";\n",
        "UPDATE financial_details SET sem_fee= 24230, fee_paid=21200 WHERE stud_ID = \"stud107\";\n",
        "UPDATE financial_details SET sem_fee= 25000, fee_paid=23500 WHERE stud_ID = \"stud108\";\n",
        "UPDATE financial_details SET sem_fee= 25000, fee_paid=24500 WHERE stud_ID = \"stud109\";\n",
        "UPDATE financial_details SET sem_fee= 25000, fee_paid=25000 WHERE stud_ID = \"stud110\";\n",
        "UPDATE financial_details SET sem_fee= 26000, fee_paid=26000 WHERE stud_ID = \"stud111\";\n",
        "UPDATE financial_details SET sem_fee= 25000, fee_paid=20900 WHERE stud_ID = \"stud112\";\n",
        "UPDATE financial_details SET sem_fee= 25000, fee_paid=22300 WHERE stud_ID = \"stud113\";\n",
        "UPDATE financial_details SET sem_fee= 19000, fee_paid=19000 WHERE stud_ID = \"stud114\";\n",
        "UPDATE financial_details SET sem_fee= 20800, fee_paid=20800 WHERE stud_ID = \"stud115\";\n",
        ""
      ],
      "metadata": {
        "id": "Hyv5-t6d4UeU"
      },
      "execution_count": null,
      "outputs": []
    },
    {
      "cell_type": "code",
      "source": [
        "%%sql SELECT *\n",
        "FROM financial_details"
      ],
      "metadata": {
        "colab": {
          "base_uri": "https://localhost:8080/",
          "height": 388
        },
        "id": "xynp5T5d8GTK",
        "outputId": "b53292ed-7851-409e-83c8-ffbce8f9d117"
      },
      "execution_count": 17,
      "outputs": [
        {
          "output_type": "stream",
          "name": "stdout",
          "text": [
            " * sqlite:///stud_db.db\n",
            "Done.\n"
          ]
        },
        {
          "output_type": "execute_result",
          "data": {
            "text/plain": [
              "[('stud101', 'Hermione Granger', 25000, 25000),\n",
              " ('stud102', 'Draco Malfo', 25000, 19000),\n",
              " ('stud103', 'Jayden Wamashati', 21900, 20000),\n",
              " ('stud104', 'Ron Weasley', 22000, 22000),\n",
              " ('stud105', 'Dolores Umbridge', 25000, 23400),\n",
              " ('stud106', 'Hedwig Tonks', 25000, 27000),\n",
              " ('stud107', 'Chao Chang', 24230, 21200),\n",
              " ('stud108', 'Curfew Yaeitpm', 25000, 23500),\n",
              " ('stud109', 'Chaptr Mukenya', 25000, 24500),\n",
              " ('stud110', 'Natalie Mpema', 25000, 25000),\n",
              " ('stud111', 'Crew Nundi', 26000, 26000),\n",
              " ('stud112', 'Bandi Kagunda', 25000, 20900),\n",
              " ('stud113', 'Testimony Omolo', 25000, 22300),\n",
              " ('stud114', 'Career Mpya', 19000, 19000),\n",
              " ('stud115', 'Deamon Anduro', 20800, 20800)]"
            ],
            "text/html": [
              "<table>\n",
              "    <thead>\n",
              "        <tr>\n",
              "            <th>stud_ID</th>\n",
              "            <th>stud_name</th>\n",
              "            <th>sem_fee</th>\n",
              "            <th>fee_paid</th>\n",
              "        </tr>\n",
              "    </thead>\n",
              "    <tbody>\n",
              "        <tr>\n",
              "            <td>stud101</td>\n",
              "            <td>Hermione Granger</td>\n",
              "            <td>25000</td>\n",
              "            <td>25000</td>\n",
              "        </tr>\n",
              "        <tr>\n",
              "            <td>stud102</td>\n",
              "            <td>Draco Malfo</td>\n",
              "            <td>25000</td>\n",
              "            <td>19000</td>\n",
              "        </tr>\n",
              "        <tr>\n",
              "            <td>stud103</td>\n",
              "            <td>Jayden Wamashati</td>\n",
              "            <td>21900</td>\n",
              "            <td>20000</td>\n",
              "        </tr>\n",
              "        <tr>\n",
              "            <td>stud104</td>\n",
              "            <td>Ron Weasley</td>\n",
              "            <td>22000</td>\n",
              "            <td>22000</td>\n",
              "        </tr>\n",
              "        <tr>\n",
              "            <td>stud105</td>\n",
              "            <td>Dolores Umbridge</td>\n",
              "            <td>25000</td>\n",
              "            <td>23400</td>\n",
              "        </tr>\n",
              "        <tr>\n",
              "            <td>stud106</td>\n",
              "            <td>Hedwig Tonks</td>\n",
              "            <td>25000</td>\n",
              "            <td>27000</td>\n",
              "        </tr>\n",
              "        <tr>\n",
              "            <td>stud107</td>\n",
              "            <td>Chao Chang</td>\n",
              "            <td>24230</td>\n",
              "            <td>21200</td>\n",
              "        </tr>\n",
              "        <tr>\n",
              "            <td>stud108</td>\n",
              "            <td>Curfew Yaeitpm</td>\n",
              "            <td>25000</td>\n",
              "            <td>23500</td>\n",
              "        </tr>\n",
              "        <tr>\n",
              "            <td>stud109</td>\n",
              "            <td>Chaptr Mukenya</td>\n",
              "            <td>25000</td>\n",
              "            <td>24500</td>\n",
              "        </tr>\n",
              "        <tr>\n",
              "            <td>stud110</td>\n",
              "            <td>Natalie Mpema</td>\n",
              "            <td>25000</td>\n",
              "            <td>25000</td>\n",
              "        </tr>\n",
              "        <tr>\n",
              "            <td>stud111</td>\n",
              "            <td>Crew Nundi</td>\n",
              "            <td>26000</td>\n",
              "            <td>26000</td>\n",
              "        </tr>\n",
              "        <tr>\n",
              "            <td>stud112</td>\n",
              "            <td>Bandi Kagunda</td>\n",
              "            <td>25000</td>\n",
              "            <td>20900</td>\n",
              "        </tr>\n",
              "        <tr>\n",
              "            <td>stud113</td>\n",
              "            <td>Testimony Omolo</td>\n",
              "            <td>25000</td>\n",
              "            <td>22300</td>\n",
              "        </tr>\n",
              "        <tr>\n",
              "            <td>stud114</td>\n",
              "            <td>Career Mpya</td>\n",
              "            <td>19000</td>\n",
              "            <td>19000</td>\n",
              "        </tr>\n",
              "        <tr>\n",
              "            <td>stud115</td>\n",
              "            <td>Deamon Anduro</td>\n",
              "            <td>20800</td>\n",
              "            <td>20800</td>\n",
              "        </tr>\n",
              "    </tbody>\n",
              "</table>"
            ]
          },
          "metadata": {},
          "execution_count": 17
        }
      ]
    },
    {
      "cell_type": "markdown",
      "source": [
        "**a. Using JOIN get the student names, school id, email, phone number (new_stud_details)**"
      ],
      "metadata": {
        "id": "sSCtiBMA5Bte"
      }
    },
    {
      "cell_type": "code",
      "source": [
        "%%sql CREATE VIEW new_stud_details AS\n",
        "SELECT pd.stud_name, sd.stud_email, pd.phone_number\n",
        "FROM personal_details pd\n",
        "JOIN school_details sd ON pd.student_id = sd.student_id;"
      ],
      "metadata": {
        "colab": {
          "base_uri": "https://localhost:8080/"
        },
        "id": "WuZ_R9tHhgfq",
        "outputId": "1b6fcbf0-7c6d-41b8-a892-02faacc135d3"
      },
      "execution_count": 22,
      "outputs": [
        {
          "output_type": "stream",
          "name": "stdout",
          "text": [
            " * sqlite:///stud_db.db\n",
            "Done.\n"
          ]
        },
        {
          "output_type": "execute_result",
          "data": {
            "text/plain": [
              "[]"
            ]
          },
          "metadata": {},
          "execution_count": 22
        }
      ]
    },
    {
      "cell_type": "code",
      "source": [
        "%%sql SELECT *\n",
        "FROM new_stud_details"
      ],
      "metadata": {
        "colab": {
          "base_uri": "https://localhost:8080/"
        },
        "id": "VqmlZ7bz-tiX",
        "outputId": "07e049b9-3b93-49bd-c79c-b013dddcf0b5"
      },
      "execution_count": 23,
      "outputs": [
        {
          "output_type": "stream",
          "name": "stdout",
          "text": [
            " * sqlite:///stud_db.db\n",
            "(sqlite3.OperationalError) no such column: pd.student_id\n",
            "[SQL: SELECT *\n",
            "FROM new_stud_details]\n",
            "(Background on this error at: https://sqlalche.me/e/20/e3q8)\n"
          ]
        }
      ]
    },
    {
      "cell_type": "markdown",
      "source": [
        "**b. Create a table with all the details from contacts to school and financial details (full_stud_details)**"
      ],
      "metadata": {
        "id": "yORprx9F_iGY"
      }
    },
    {
      "cell_type": "code",
      "source": [
        "%%sql CREATE TABLE full_stud_details AS\n",
        "SELECT\n",
        "  c.stud_email,\n",
        "  c.phone_number,\n",
        "  c.next_of_kin_name,\n",
        "  c.next_of_kin_relation,\n",
        "  c.next_of_kin_contacts,\n",
        "  s.current_home_county,\n",
        "  s.secondary_school_county,\n",
        "  s.residence,\n",
        "  f.stud_ID,\n",
        "  f.stud_name,\n",
        "  f.sem_fee,\n",
        "  f.fee_paid\n",
        "FROM\n",
        "  contact_details c\n",
        "  JOIN school_details s ON c.stud_email = s.stud_email\n",
        "  JOIN financial_details f ON s.stud_ID = f.stud_ID;"
      ],
      "metadata": {
        "colab": {
          "base_uri": "https://localhost:8080/"
        },
        "id": "2ciR-LGp_qlj",
        "outputId": "e2dfede3-0b82-4f84-a5a4-79f05f1b1039"
      },
      "execution_count": 27,
      "outputs": [
        {
          "output_type": "stream",
          "name": "stdout",
          "text": [
            " * sqlite:///stud_db.db\n",
            "Done.\n"
          ]
        },
        {
          "output_type": "execute_result",
          "data": {
            "text/plain": [
              "[]"
            ]
          },
          "metadata": {},
          "execution_count": 27
        }
      ]
    },
    {
      "cell_type": "code",
      "source": [
        "%sql SELECT * FROM full_stud_details;"
      ],
      "metadata": {
        "colab": {
          "base_uri": "https://localhost:8080/",
          "height": 613
        },
        "id": "cBWzku-tDjqx",
        "outputId": "b71ce483-c24c-411b-8654-cd1db3b8cd48"
      },
      "execution_count": 28,
      "outputs": [
        {
          "output_type": "stream",
          "name": "stdout",
          "text": [
            " * sqlite:///stud_db.db\n",
            "Done.\n"
          ]
        },
        {
          "output_type": "execute_result",
          "data": {
            "text/plain": [
              "[('HermioneGranger@zinduaschool.ac', '0712345678', 'Darius Young', 'Father', '0782382383', 'Nakuru', 'Nairobi', 'In school', 'stud101', 'Hermione Granger', 25000, 25000),\n",
              " ('DracoMalfo@zinduaschool.ac', '0723456781', 'Lucy Nderitu', 'Mother', '0723238983', 'Nairobi', 'Nakuru', 'In school', 'stud102', 'Draco Malfo', 25000, 19000),\n",
              " ('JaydenWamashati@zinduaschool.ac', '0734567812', 'Jerotich Koech', 'Mother', '0779343126', 'Samburu', 'Nairobi', 'Out of school', 'stud103', 'Jayden Wamashati', 21900, 20000),\n",
              " ('RonWeasley@zinduaschool.ac', '0745678123', 'Mwaura Mwangi', 'Father', '0798246347', 'Kericho', 'Nairobi', 'In school', 'stud104', 'Ron Weasley', 22000, 22000),\n",
              " ('DoloresUmbridge@zinduaschool.ac', '0756781234', 'Ian Patrick', 'Father', '0711234453', 'Nyamira', 'Nakuru', 'In school', 'stud105', 'Dolores Umbridge', 25000, 23400),\n",
              " ('HedwigTonks@zinduaschool.ac', '0767812345', 'Lebron James', 'Father', '0765439233', 'Kisumu', 'Nairobi', 'Out of school', 'stud106', 'Hedwig Tonks', 25000, 27000),\n",
              " ('ChaoChang@zinduaschool.ac', '0778123456', 'Magna Carter', 'Father', '0702526243', 'Nakuru', 'Nairobi', 'Out of school', 'stud107', 'Chao Chang', 24230, 21200),\n",
              " ('CurfewYaeitpm@zinduaschool.ac', '0781234567', 'Cindy Wayne', 'Mother', '0747282839', 'Kisumu', 'Mombasa', 'Out of school', 'stud108', 'Curfew Yaeitpm', 25000, 23500),\n",
              " ('ChaptrMukenya@zinduaschool.ac', '0722345678', 'Farah Maalim', 'Mother', '0753927482', 'Kericho', 'Mombasa', 'In school', 'stud109', 'Chaptr Mukenya', 25000, 24500),\n",
              " ('NatalieMpema@zinduaschool.ac', '0733456781', 'Faiba Mbugua', 'Father', '0713245748', 'Nakuru', 'Mombasa', 'In school', 'stud110', 'Natalie Mpema', 25000, 25000),\n",
              " ('CrewNundi@zinduaschool.ac', '0744567812', 'John Doe', 'Father', '0725737383', 'Kiambu', 'Turkana', 'In school', 'stud111', 'Crew Nundi', 26000, 26000),\n",
              " ('BandiKagunda@zinduaschool.ac', '0755678123', 'Klaus Michealson', 'Father', '0789346276', 'Nairobi', 'Nakuru', 'In school', 'stud112', 'Bandi Kagunda', 25000, 20900),\n",
              " ('TestimonyOmolo@zinduaschool.ac', '0766456781', 'Suluhu Amdany', 'Mother', '0785739259', 'Samburu', 'Taita Taveta', 'In school', 'stud113', 'Testimony Omolo', 25000, 22300),\n",
              " ('CareerMpya@zinduaschool.ac', '0741367812', 'Daisy Auma', 'Mother', '0791344537', 'Kericho', 'Nairobi', 'Out of school', 'stud114', 'Career Mpya', 19000, 19000)]"
            ],
            "text/html": [
              "<table>\n",
              "    <thead>\n",
              "        <tr>\n",
              "            <th>stud_email</th>\n",
              "            <th>phone_number</th>\n",
              "            <th>next_of_kin_name</th>\n",
              "            <th>next_of_kin_relation</th>\n",
              "            <th>next_of_kin_contacts</th>\n",
              "            <th>current_home_county</th>\n",
              "            <th>secondary_school_county</th>\n",
              "            <th>residence</th>\n",
              "            <th>stud_ID</th>\n",
              "            <th>stud_name</th>\n",
              "            <th>sem_fee</th>\n",
              "            <th>fee_paid</th>\n",
              "        </tr>\n",
              "    </thead>\n",
              "    <tbody>\n",
              "        <tr>\n",
              "            <td>HermioneGranger@zinduaschool.ac</td>\n",
              "            <td>0712345678</td>\n",
              "            <td>Darius Young</td>\n",
              "            <td>Father</td>\n",
              "            <td>0782382383</td>\n",
              "            <td>Nakuru</td>\n",
              "            <td>Nairobi</td>\n",
              "            <td>In school</td>\n",
              "            <td>stud101</td>\n",
              "            <td>Hermione Granger</td>\n",
              "            <td>25000</td>\n",
              "            <td>25000</td>\n",
              "        </tr>\n",
              "        <tr>\n",
              "            <td>DracoMalfo@zinduaschool.ac</td>\n",
              "            <td>0723456781</td>\n",
              "            <td>Lucy Nderitu</td>\n",
              "            <td>Mother</td>\n",
              "            <td>0723238983</td>\n",
              "            <td>Nairobi</td>\n",
              "            <td>Nakuru</td>\n",
              "            <td>In school</td>\n",
              "            <td>stud102</td>\n",
              "            <td>Draco Malfo</td>\n",
              "            <td>25000</td>\n",
              "            <td>19000</td>\n",
              "        </tr>\n",
              "        <tr>\n",
              "            <td>JaydenWamashati@zinduaschool.ac</td>\n",
              "            <td>0734567812</td>\n",
              "            <td>Jerotich Koech</td>\n",
              "            <td>Mother</td>\n",
              "            <td>0779343126</td>\n",
              "            <td>Samburu</td>\n",
              "            <td>Nairobi</td>\n",
              "            <td>Out of school</td>\n",
              "            <td>stud103</td>\n",
              "            <td>Jayden Wamashati</td>\n",
              "            <td>21900</td>\n",
              "            <td>20000</td>\n",
              "        </tr>\n",
              "        <tr>\n",
              "            <td>RonWeasley@zinduaschool.ac</td>\n",
              "            <td>0745678123</td>\n",
              "            <td>Mwaura Mwangi</td>\n",
              "            <td>Father</td>\n",
              "            <td>0798246347</td>\n",
              "            <td>Kericho</td>\n",
              "            <td>Nairobi</td>\n",
              "            <td>In school</td>\n",
              "            <td>stud104</td>\n",
              "            <td>Ron Weasley</td>\n",
              "            <td>22000</td>\n",
              "            <td>22000</td>\n",
              "        </tr>\n",
              "        <tr>\n",
              "            <td>DoloresUmbridge@zinduaschool.ac</td>\n",
              "            <td>0756781234</td>\n",
              "            <td>Ian Patrick</td>\n",
              "            <td>Father</td>\n",
              "            <td>0711234453</td>\n",
              "            <td>Nyamira</td>\n",
              "            <td>Nakuru</td>\n",
              "            <td>In school</td>\n",
              "            <td>stud105</td>\n",
              "            <td>Dolores Umbridge</td>\n",
              "            <td>25000</td>\n",
              "            <td>23400</td>\n",
              "        </tr>\n",
              "        <tr>\n",
              "            <td>HedwigTonks@zinduaschool.ac</td>\n",
              "            <td>0767812345</td>\n",
              "            <td>Lebron James</td>\n",
              "            <td>Father</td>\n",
              "            <td>0765439233</td>\n",
              "            <td>Kisumu</td>\n",
              "            <td>Nairobi</td>\n",
              "            <td>Out of school</td>\n",
              "            <td>stud106</td>\n",
              "            <td>Hedwig Tonks</td>\n",
              "            <td>25000</td>\n",
              "            <td>27000</td>\n",
              "        </tr>\n",
              "        <tr>\n",
              "            <td>ChaoChang@zinduaschool.ac</td>\n",
              "            <td>0778123456</td>\n",
              "            <td>Magna Carter</td>\n",
              "            <td>Father</td>\n",
              "            <td>0702526243</td>\n",
              "            <td>Nakuru</td>\n",
              "            <td>Nairobi</td>\n",
              "            <td>Out of school</td>\n",
              "            <td>stud107</td>\n",
              "            <td>Chao Chang</td>\n",
              "            <td>24230</td>\n",
              "            <td>21200</td>\n",
              "        </tr>\n",
              "        <tr>\n",
              "            <td>CurfewYaeitpm@zinduaschool.ac</td>\n",
              "            <td>0781234567</td>\n",
              "            <td>Cindy Wayne</td>\n",
              "            <td>Mother</td>\n",
              "            <td>0747282839</td>\n",
              "            <td>Kisumu</td>\n",
              "            <td>Mombasa</td>\n",
              "            <td>Out of school</td>\n",
              "            <td>stud108</td>\n",
              "            <td>Curfew Yaeitpm</td>\n",
              "            <td>25000</td>\n",
              "            <td>23500</td>\n",
              "        </tr>\n",
              "        <tr>\n",
              "            <td>ChaptrMukenya@zinduaschool.ac</td>\n",
              "            <td>0722345678</td>\n",
              "            <td>Farah Maalim</td>\n",
              "            <td>Mother</td>\n",
              "            <td>0753927482</td>\n",
              "            <td>Kericho</td>\n",
              "            <td>Mombasa</td>\n",
              "            <td>In school</td>\n",
              "            <td>stud109</td>\n",
              "            <td>Chaptr Mukenya</td>\n",
              "            <td>25000</td>\n",
              "            <td>24500</td>\n",
              "        </tr>\n",
              "        <tr>\n",
              "            <td>NatalieMpema@zinduaschool.ac</td>\n",
              "            <td>0733456781</td>\n",
              "            <td>Faiba Mbugua</td>\n",
              "            <td>Father</td>\n",
              "            <td>0713245748</td>\n",
              "            <td>Nakuru</td>\n",
              "            <td>Mombasa</td>\n",
              "            <td>In school</td>\n",
              "            <td>stud110</td>\n",
              "            <td>Natalie Mpema</td>\n",
              "            <td>25000</td>\n",
              "            <td>25000</td>\n",
              "        </tr>\n",
              "        <tr>\n",
              "            <td>CrewNundi@zinduaschool.ac</td>\n",
              "            <td>0744567812</td>\n",
              "            <td>John Doe</td>\n",
              "            <td>Father</td>\n",
              "            <td>0725737383</td>\n",
              "            <td>Kiambu</td>\n",
              "            <td>Turkana</td>\n",
              "            <td>In school</td>\n",
              "            <td>stud111</td>\n",
              "            <td>Crew Nundi</td>\n",
              "            <td>26000</td>\n",
              "            <td>26000</td>\n",
              "        </tr>\n",
              "        <tr>\n",
              "            <td>BandiKagunda@zinduaschool.ac</td>\n",
              "            <td>0755678123</td>\n",
              "            <td>Klaus Michealson</td>\n",
              "            <td>Father</td>\n",
              "            <td>0789346276</td>\n",
              "            <td>Nairobi</td>\n",
              "            <td>Nakuru</td>\n",
              "            <td>In school</td>\n",
              "            <td>stud112</td>\n",
              "            <td>Bandi Kagunda</td>\n",
              "            <td>25000</td>\n",
              "            <td>20900</td>\n",
              "        </tr>\n",
              "        <tr>\n",
              "            <td>TestimonyOmolo@zinduaschool.ac</td>\n",
              "            <td>0766456781</td>\n",
              "            <td>Suluhu Amdany</td>\n",
              "            <td>Mother</td>\n",
              "            <td>0785739259</td>\n",
              "            <td>Samburu</td>\n",
              "            <td>Taita Taveta</td>\n",
              "            <td>In school</td>\n",
              "            <td>stud113</td>\n",
              "            <td>Testimony Omolo</td>\n",
              "            <td>25000</td>\n",
              "            <td>22300</td>\n",
              "        </tr>\n",
              "        <tr>\n",
              "            <td>CareerMpya@zinduaschool.ac</td>\n",
              "            <td>0741367812</td>\n",
              "            <td>Daisy Auma</td>\n",
              "            <td>Mother</td>\n",
              "            <td>0791344537</td>\n",
              "            <td>Kericho</td>\n",
              "            <td>Nairobi</td>\n",
              "            <td>Out of school</td>\n",
              "            <td>stud114</td>\n",
              "            <td>Career Mpya</td>\n",
              "            <td>19000</td>\n",
              "            <td>19000</td>\n",
              "        </tr>\n",
              "    </tbody>\n",
              "</table>"
            ]
          },
          "metadata": {},
          "execution_count": 28
        }
      ]
    },
    {
      "cell_type": "markdown",
      "source": [
        "**c. Add student names on any empty row of stud_name in financial_details**"
      ],
      "metadata": {
        "id": "dc5cnijsQZpV"
      }
    },
    {
      "cell_type": "code",
      "source": [
        "%%sql UPDATE financial_details\n",
        "SET stud_name = (\n",
        "    SELECT stud_name\n",
        "    FROM personal_details\n",
        "    WHERE personal_details.stud_ID = financial_details.stud_ID\n",
        ")\n",
        "WHERE stud_name IS NULL;"
      ],
      "metadata": {
        "colab": {
          "base_uri": "https://localhost:8080/"
        },
        "id": "AY2b0x9fQe-s",
        "outputId": "2b18afdc-2514-4ed6-bfb7-52d680423d20"
      },
      "execution_count": 31,
      "outputs": [
        {
          "output_type": "stream",
          "name": "stdout",
          "text": [
            " * sqlite:///stud_db.db\n",
            "0 rows affected.\n"
          ]
        },
        {
          "output_type": "execute_result",
          "data": {
            "text/plain": [
              "[]"
            ]
          },
          "metadata": {},
          "execution_count": 31
        }
      ]
    },
    {
      "cell_type": "code",
      "source": [
        "%%sql SELECT *\n",
        "FROM financial_details;"
      ],
      "metadata": {
        "colab": {
          "base_uri": "https://localhost:8080/",
          "height": 388
        },
        "id": "gKyL-SUawq-w",
        "outputId": "41354bdb-9654-442b-bb9d-8aa2c7690b72"
      },
      "execution_count": 35,
      "outputs": [
        {
          "output_type": "stream",
          "name": "stdout",
          "text": [
            " * sqlite:///stud_db.db\n",
            "Done.\n"
          ]
        },
        {
          "output_type": "execute_result",
          "data": {
            "text/plain": [
              "[('stud101', 'Hermione Granger', 25000, 25000),\n",
              " ('stud102', 'Draco Malfo', 25000, 19000),\n",
              " ('stud103', 'Jayden Wamashati', 21900, 20000),\n",
              " ('stud104', 'Ron Weasley', 22000, 22000),\n",
              " ('stud105', 'Dolores Umbridge', 25000, 23400),\n",
              " ('stud106', 'Hedwig Tonks', 25000, 27000),\n",
              " ('stud107', 'Chao Chang', 24230, 21200),\n",
              " ('stud108', 'Curfew Yaeitpm', 25000, 23500),\n",
              " ('stud109', 'Chaptr Mukenya', 25000, 24500),\n",
              " ('stud110', 'Natalie Mpema', 25000, 25000),\n",
              " ('stud111', 'Crew Nundi', 26000, 26000),\n",
              " ('stud112', 'Bandi Kagunda', 25000, 20900),\n",
              " ('stud113', 'Testimony Omolo', 25000, 22300),\n",
              " ('stud114', 'Career Mpya', 19000, 19000),\n",
              " ('stud115', 'Deamon Anduro', 20800, 20800)]"
            ],
            "text/html": [
              "<table>\n",
              "    <thead>\n",
              "        <tr>\n",
              "            <th>stud_ID</th>\n",
              "            <th>stud_name</th>\n",
              "            <th>sem_fee</th>\n",
              "            <th>fee_paid</th>\n",
              "        </tr>\n",
              "    </thead>\n",
              "    <tbody>\n",
              "        <tr>\n",
              "            <td>stud101</td>\n",
              "            <td>Hermione Granger</td>\n",
              "            <td>25000</td>\n",
              "            <td>25000</td>\n",
              "        </tr>\n",
              "        <tr>\n",
              "            <td>stud102</td>\n",
              "            <td>Draco Malfo</td>\n",
              "            <td>25000</td>\n",
              "            <td>19000</td>\n",
              "        </tr>\n",
              "        <tr>\n",
              "            <td>stud103</td>\n",
              "            <td>Jayden Wamashati</td>\n",
              "            <td>21900</td>\n",
              "            <td>20000</td>\n",
              "        </tr>\n",
              "        <tr>\n",
              "            <td>stud104</td>\n",
              "            <td>Ron Weasley</td>\n",
              "            <td>22000</td>\n",
              "            <td>22000</td>\n",
              "        </tr>\n",
              "        <tr>\n",
              "            <td>stud105</td>\n",
              "            <td>Dolores Umbridge</td>\n",
              "            <td>25000</td>\n",
              "            <td>23400</td>\n",
              "        </tr>\n",
              "        <tr>\n",
              "            <td>stud106</td>\n",
              "            <td>Hedwig Tonks</td>\n",
              "            <td>25000</td>\n",
              "            <td>27000</td>\n",
              "        </tr>\n",
              "        <tr>\n",
              "            <td>stud107</td>\n",
              "            <td>Chao Chang</td>\n",
              "            <td>24230</td>\n",
              "            <td>21200</td>\n",
              "        </tr>\n",
              "        <tr>\n",
              "            <td>stud108</td>\n",
              "            <td>Curfew Yaeitpm</td>\n",
              "            <td>25000</td>\n",
              "            <td>23500</td>\n",
              "        </tr>\n",
              "        <tr>\n",
              "            <td>stud109</td>\n",
              "            <td>Chaptr Mukenya</td>\n",
              "            <td>25000</td>\n",
              "            <td>24500</td>\n",
              "        </tr>\n",
              "        <tr>\n",
              "            <td>stud110</td>\n",
              "            <td>Natalie Mpema</td>\n",
              "            <td>25000</td>\n",
              "            <td>25000</td>\n",
              "        </tr>\n",
              "        <tr>\n",
              "            <td>stud111</td>\n",
              "            <td>Crew Nundi</td>\n",
              "            <td>26000</td>\n",
              "            <td>26000</td>\n",
              "        </tr>\n",
              "        <tr>\n",
              "            <td>stud112</td>\n",
              "            <td>Bandi Kagunda</td>\n",
              "            <td>25000</td>\n",
              "            <td>20900</td>\n",
              "        </tr>\n",
              "        <tr>\n",
              "            <td>stud113</td>\n",
              "            <td>Testimony Omolo</td>\n",
              "            <td>25000</td>\n",
              "            <td>22300</td>\n",
              "        </tr>\n",
              "        <tr>\n",
              "            <td>stud114</td>\n",
              "            <td>Career Mpya</td>\n",
              "            <td>19000</td>\n",
              "            <td>19000</td>\n",
              "        </tr>\n",
              "        <tr>\n",
              "            <td>stud115</td>\n",
              "            <td>Deamon Anduro</td>\n",
              "            <td>20800</td>\n",
              "            <td>20800</td>\n",
              "        </tr>\n",
              "    </tbody>\n",
              "</table>"
            ]
          },
          "metadata": {},
          "execution_count": 35
        }
      ]
    },
    {
      "cell_type": "markdown",
      "source": [
        "**d. On the financial_details table add a column, fee_cleared, that has True if student has cleared current fee and False if not (financial_details_view)**"
      ],
      "metadata": {
        "id": "8GeDomw_xTiL"
      }
    },
    {
      "cell_type": "code",
      "source": [
        "%%sql ALTER TABLE financial_details\n",
        "ADD COLUMN fee_cleared BOOLEAN;"
      ],
      "metadata": {
        "colab": {
          "base_uri": "https://localhost:8080/"
        },
        "id": "ryAWOFwzxbfo",
        "outputId": "4723b023-cfea-4681-f1fc-c0ef6188724c"
      },
      "execution_count": 36,
      "outputs": [
        {
          "output_type": "stream",
          "name": "stdout",
          "text": [
            " * sqlite:///stud_db.db\n",
            "Done.\n"
          ]
        },
        {
          "output_type": "execute_result",
          "data": {
            "text/plain": [
              "[]"
            ]
          },
          "metadata": {},
          "execution_count": 36
        }
      ]
    },
    {
      "cell_type": "code",
      "source": [
        "%%sql UPDATE financial_details\n",
        "SET fee_cleared = CASE\n",
        "                     WHEN fee_paid >= sem_fee THEN 'True'\n",
        "                     ELSE 'False'\n",
        "                 END;"
      ],
      "metadata": {
        "colab": {
          "base_uri": "https://localhost:8080/"
        },
        "id": "MGD6nx3V2z-Y",
        "outputId": "00a1ddf0-f860-472d-88f1-93ccc926b3a4"
      },
      "execution_count": 49,
      "outputs": [
        {
          "output_type": "stream",
          "name": "stdout",
          "text": [
            " * sqlite:///stud_db.db\n",
            "15 rows affected.\n"
          ]
        },
        {
          "output_type": "execute_result",
          "data": {
            "text/plain": [
              "[]"
            ]
          },
          "metadata": {},
          "execution_count": 49
        }
      ]
    },
    {
      "cell_type": "code",
      "source": [
        "%%sql SELECT *\n",
        "FROM financial_details;"
      ],
      "metadata": {
        "colab": {
          "base_uri": "https://localhost:8080/",
          "height": 388
        },
        "id": "_7CDeWfm3B51",
        "outputId": "a4d763a4-d381-498b-fe96-339704adb58e"
      },
      "execution_count": 50,
      "outputs": [
        {
          "output_type": "stream",
          "name": "stdout",
          "text": [
            " * sqlite:///stud_db.db\n",
            "Done.\n"
          ]
        },
        {
          "output_type": "execute_result",
          "data": {
            "text/plain": [
              "[('stud101', 'Hermione Granger', 25000, 25000, 'True'),\n",
              " ('stud102', 'Draco Malfo', 25000, 19000, 'False'),\n",
              " ('stud103', 'Jayden Wamashati', 21900, 20000, 'False'),\n",
              " ('stud104', 'Ron Weasley', 22000, 22000, 'True'),\n",
              " ('stud105', 'Dolores Umbridge', 25000, 23400, 'False'),\n",
              " ('stud106', 'Hedwig Tonks', 25000, 27000, 'True'),\n",
              " ('stud107', 'Chao Chang', 24230, 21200, 'False'),\n",
              " ('stud108', 'Curfew Yaeitpm', 25000, 23500, 'False'),\n",
              " ('stud109', 'Chaptr Mukenya', 25000, 24500, 'False'),\n",
              " ('stud110', 'Natalie Mpema', 25000, 25000, 'True'),\n",
              " ('stud111', 'Crew Nundi', 26000, 26000, 'True'),\n",
              " ('stud112', 'Bandi Kagunda', 25000, 20900, 'False'),\n",
              " ('stud113', 'Testimony Omolo', 25000, 22300, 'False'),\n",
              " ('stud114', 'Career Mpya', 19000, 19000, 'True'),\n",
              " ('stud115', 'Deamon Anduro', 20800, 20800, 'True')]"
            ],
            "text/html": [
              "<table>\n",
              "    <thead>\n",
              "        <tr>\n",
              "            <th>stud_ID</th>\n",
              "            <th>stud_name</th>\n",
              "            <th>sem_fee</th>\n",
              "            <th>fee_paid</th>\n",
              "            <th>fee_cleared</th>\n",
              "        </tr>\n",
              "    </thead>\n",
              "    <tbody>\n",
              "        <tr>\n",
              "            <td>stud101</td>\n",
              "            <td>Hermione Granger</td>\n",
              "            <td>25000</td>\n",
              "            <td>25000</td>\n",
              "            <td>True</td>\n",
              "        </tr>\n",
              "        <tr>\n",
              "            <td>stud102</td>\n",
              "            <td>Draco Malfo</td>\n",
              "            <td>25000</td>\n",
              "            <td>19000</td>\n",
              "            <td>False</td>\n",
              "        </tr>\n",
              "        <tr>\n",
              "            <td>stud103</td>\n",
              "            <td>Jayden Wamashati</td>\n",
              "            <td>21900</td>\n",
              "            <td>20000</td>\n",
              "            <td>False</td>\n",
              "        </tr>\n",
              "        <tr>\n",
              "            <td>stud104</td>\n",
              "            <td>Ron Weasley</td>\n",
              "            <td>22000</td>\n",
              "            <td>22000</td>\n",
              "            <td>True</td>\n",
              "        </tr>\n",
              "        <tr>\n",
              "            <td>stud105</td>\n",
              "            <td>Dolores Umbridge</td>\n",
              "            <td>25000</td>\n",
              "            <td>23400</td>\n",
              "            <td>False</td>\n",
              "        </tr>\n",
              "        <tr>\n",
              "            <td>stud106</td>\n",
              "            <td>Hedwig Tonks</td>\n",
              "            <td>25000</td>\n",
              "            <td>27000</td>\n",
              "            <td>True</td>\n",
              "        </tr>\n",
              "        <tr>\n",
              "            <td>stud107</td>\n",
              "            <td>Chao Chang</td>\n",
              "            <td>24230</td>\n",
              "            <td>21200</td>\n",
              "            <td>False</td>\n",
              "        </tr>\n",
              "        <tr>\n",
              "            <td>stud108</td>\n",
              "            <td>Curfew Yaeitpm</td>\n",
              "            <td>25000</td>\n",
              "            <td>23500</td>\n",
              "            <td>False</td>\n",
              "        </tr>\n",
              "        <tr>\n",
              "            <td>stud109</td>\n",
              "            <td>Chaptr Mukenya</td>\n",
              "            <td>25000</td>\n",
              "            <td>24500</td>\n",
              "            <td>False</td>\n",
              "        </tr>\n",
              "        <tr>\n",
              "            <td>stud110</td>\n",
              "            <td>Natalie Mpema</td>\n",
              "            <td>25000</td>\n",
              "            <td>25000</td>\n",
              "            <td>True</td>\n",
              "        </tr>\n",
              "        <tr>\n",
              "            <td>stud111</td>\n",
              "            <td>Crew Nundi</td>\n",
              "            <td>26000</td>\n",
              "            <td>26000</td>\n",
              "            <td>True</td>\n",
              "        </tr>\n",
              "        <tr>\n",
              "            <td>stud112</td>\n",
              "            <td>Bandi Kagunda</td>\n",
              "            <td>25000</td>\n",
              "            <td>20900</td>\n",
              "            <td>False</td>\n",
              "        </tr>\n",
              "        <tr>\n",
              "            <td>stud113</td>\n",
              "            <td>Testimony Omolo</td>\n",
              "            <td>25000</td>\n",
              "            <td>22300</td>\n",
              "            <td>False</td>\n",
              "        </tr>\n",
              "        <tr>\n",
              "            <td>stud114</td>\n",
              "            <td>Career Mpya</td>\n",
              "            <td>19000</td>\n",
              "            <td>19000</td>\n",
              "            <td>True</td>\n",
              "        </tr>\n",
              "        <tr>\n",
              "            <td>stud115</td>\n",
              "            <td>Deamon Anduro</td>\n",
              "            <td>20800</td>\n",
              "            <td>20800</td>\n",
              "            <td>True</td>\n",
              "        </tr>\n",
              "    </tbody>\n",
              "</table>"
            ]
          },
          "metadata": {},
          "execution_count": 50
        }
      ]
    },
    {
      "cell_type": "markdown",
      "source": [
        "**e. Get the national ID and name of all students who have cleared their fees (fee_cleared)**"
      ],
      "metadata": {
        "id": "u9XThfuQ3XC_"
      }
    },
    {
      "cell_type": "code",
      "source": [
        "%%sql SELECT pd.national_ID, pd.stud_name\n",
        "FROM personal_details pd\n",
        "JOIN financial_details fd ON pd.stud_id = fd.stud_id\n",
        "WHERE fd.fee_cleared = 'True';"
      ],
      "metadata": {
        "colab": {
          "base_uri": "https://localhost:8080/",
          "height": 221
        },
        "id": "KGguvpKr3ZNr",
        "outputId": "b88700c0-15d6-4bd2-b660-520bea4311b8"
      },
      "execution_count": 52,
      "outputs": [
        {
          "output_type": "stream",
          "name": "stdout",
          "text": [
            " * sqlite:///stud_db.db\n",
            "Done.\n"
          ]
        },
        {
          "output_type": "execute_result",
          "data": {
            "text/plain": [
              "[(344534, 'Hermione Granger'),\n",
              " (377302, 'Ron Weasley'),\n",
              " (307243, 'Hedwig Tonks'),\n",
              " (339152, 'Natalie Mpema'),\n",
              " (339746, 'Crew Nundi'),\n",
              " (321746, 'Career Mpya'),\n",
              " (390234, 'Deamon Anduro')]"
            ],
            "text/html": [
              "<table>\n",
              "    <thead>\n",
              "        <tr>\n",
              "            <th>national_ID</th>\n",
              "            <th>stud_name</th>\n",
              "        </tr>\n",
              "    </thead>\n",
              "    <tbody>\n",
              "        <tr>\n",
              "            <td>344534</td>\n",
              "            <td>Hermione Granger</td>\n",
              "        </tr>\n",
              "        <tr>\n",
              "            <td>377302</td>\n",
              "            <td>Ron Weasley</td>\n",
              "        </tr>\n",
              "        <tr>\n",
              "            <td>307243</td>\n",
              "            <td>Hedwig Tonks</td>\n",
              "        </tr>\n",
              "        <tr>\n",
              "            <td>339152</td>\n",
              "            <td>Natalie Mpema</td>\n",
              "        </tr>\n",
              "        <tr>\n",
              "            <td>339746</td>\n",
              "            <td>Crew Nundi</td>\n",
              "        </tr>\n",
              "        <tr>\n",
              "            <td>321746</td>\n",
              "            <td>Career Mpya</td>\n",
              "        </tr>\n",
              "        <tr>\n",
              "            <td>390234</td>\n",
              "            <td>Deamon Anduro</td>\n",
              "        </tr>\n",
              "    </tbody>\n",
              "</table>"
            ]
          },
          "metadata": {},
          "execution_count": 52
        }
      ]
    },
    {
      "cell_type": "markdown",
      "source": [
        "**f. Get the total sum of fees paid so far and the total current deficit (total_fee_balance)**"
      ],
      "metadata": {
        "id": "ht-zl4xe56XR"
      }
    },
    {
      "cell_type": "code",
      "source": [
        "%%sql SELECT\n",
        "    SUM(fee_paid) AS total_fees_paid,\n",
        "    SUM(CASE WHEN fee_paid < sem_fee THEN sem_fee - fee_paid ELSE 0 END) AS total_fee_deficit\n",
        "FROM\n",
        "    financial_details;"
      ],
      "metadata": {
        "colab": {
          "base_uri": "https://localhost:8080/",
          "height": 96
        },
        "id": "HcIKjbHT55pV",
        "outputId": "8b9d9884-b952-4d20-98cc-fe0d5616b13b"
      },
      "execution_count": 54,
      "outputs": [
        {
          "output_type": "stream",
          "name": "stdout",
          "text": [
            " * sqlite:///stud_db.db\n",
            "Done.\n"
          ]
        },
        {
          "output_type": "execute_result",
          "data": {
            "text/plain": [
              "[(339600, 21330)]"
            ],
            "text/html": [
              "<table>\n",
              "    <thead>\n",
              "        <tr>\n",
              "            <th>total_fees_paid</th>\n",
              "            <th>total_fee_deficit</th>\n",
              "        </tr>\n",
              "    </thead>\n",
              "    <tbody>\n",
              "        <tr>\n",
              "            <td>339600</td>\n",
              "            <td>21330</td>\n",
              "        </tr>\n",
              "    </tbody>\n",
              "</table>"
            ]
          },
          "metadata": {},
          "execution_count": 54
        }
      ]
    },
    {
      "cell_type": "markdown",
      "source": [
        "**g. Get the count of students who share a current home county i.e., Say Nairobi, get the number of students who’s current_home_county is Nairobi, and so on for all available counties (home_county_count)**"
      ],
      "metadata": {
        "id": "NrcwSzC66jy1"
      }
    },
    {
      "cell_type": "code",
      "source": [
        "%%sql SELECT\n",
        "    current_home_county,\n",
        "    COUNT(*) AS home_county_count\n",
        "FROM\n",
        "    school_details\n",
        "GROUP BY\n",
        "    current_home_county;"
      ],
      "metadata": {
        "colab": {
          "base_uri": "https://localhost:8080/",
          "height": 221
        },
        "id": "dFon12_j6ohU",
        "outputId": "dc730f29-2017-4b8a-81a3-6f9d8b983be0"
      },
      "execution_count": 55,
      "outputs": [
        {
          "output_type": "stream",
          "name": "stdout",
          "text": [
            " * sqlite:///stud_db.db\n",
            "Done.\n"
          ]
        },
        {
          "output_type": "execute_result",
          "data": {
            "text/plain": [
              "[('Kericho', 3),\n",
              " ('Kiambu', 2),\n",
              " ('Kisumu', 2),\n",
              " ('Nairobi', 2),\n",
              " ('Nakuru', 3),\n",
              " ('Nyamira', 1),\n",
              " ('Samburu', 2)]"
            ],
            "text/html": [
              "<table>\n",
              "    <thead>\n",
              "        <tr>\n",
              "            <th>current_home_county</th>\n",
              "            <th>home_county_count</th>\n",
              "        </tr>\n",
              "    </thead>\n",
              "    <tbody>\n",
              "        <tr>\n",
              "            <td>Kericho</td>\n",
              "            <td>3</td>\n",
              "        </tr>\n",
              "        <tr>\n",
              "            <td>Kiambu</td>\n",
              "            <td>2</td>\n",
              "        </tr>\n",
              "        <tr>\n",
              "            <td>Kisumu</td>\n",
              "            <td>2</td>\n",
              "        </tr>\n",
              "        <tr>\n",
              "            <td>Nairobi</td>\n",
              "            <td>2</td>\n",
              "        </tr>\n",
              "        <tr>\n",
              "            <td>Nakuru</td>\n",
              "            <td>3</td>\n",
              "        </tr>\n",
              "        <tr>\n",
              "            <td>Nyamira</td>\n",
              "            <td>1</td>\n",
              "        </tr>\n",
              "        <tr>\n",
              "            <td>Samburu</td>\n",
              "            <td>2</td>\n",
              "        </tr>\n",
              "    </tbody>\n",
              "</table>"
            ]
          },
          "metadata": {},
          "execution_count": 55
        }
      ]
    },
    {
      "cell_type": "markdown",
      "source": [
        "**h. Get the count of Male and/or Female students from each secondary_school_county (secondary_school_count). The table should contain a column for male student count and female student count for each county.**"
      ],
      "metadata": {
        "id": "0a1B_Syd7CIF"
      }
    },
    {
      "cell_type": "code",
      "source": [
        "%%sql SELECT\n",
        "    sd.secondary_school_county,\n",
        "    SUM(CASE WHEN pd.gender = 'Male' THEN 1 ELSE 0 END) AS male_count,\n",
        "    SUM(CASE WHEN pd.gender = 'Female' THEN 1 ELSE 0 END) AS female_count\n",
        "FROM\n",
        "    school_details sd\n",
        "JOIN\n",
        "    personal_details pd ON sd.stud_id = pd.stud_id\n",
        "GROUP BY\n",
        "    sd.secondary_school_county;"
      ],
      "metadata": {
        "colab": {
          "base_uri": "https://localhost:8080/",
          "height": 180
        },
        "id": "fKcxgUeu7A60",
        "outputId": "d5b37660-1e17-4c99-95f4-379491a8d320"
      },
      "execution_count": 58,
      "outputs": [
        {
          "output_type": "stream",
          "name": "stdout",
          "text": [
            " * sqlite:///stud_db.db\n",
            "Done.\n"
          ]
        },
        {
          "output_type": "execute_result",
          "data": {
            "text/plain": [
              "[('Mombasa', 1, 3),\n",
              " ('Nairobi', 4, 2),\n",
              " ('Nakuru', 1, 2),\n",
              " ('Taita Taveta', 1, 0),\n",
              " ('Turkana', 1, 0)]"
            ],
            "text/html": [
              "<table>\n",
              "    <thead>\n",
              "        <tr>\n",
              "            <th>secondary_school_county</th>\n",
              "            <th>male_count</th>\n",
              "            <th>female_count</th>\n",
              "        </tr>\n",
              "    </thead>\n",
              "    <tbody>\n",
              "        <tr>\n",
              "            <td>Mombasa</td>\n",
              "            <td>1</td>\n",
              "            <td>3</td>\n",
              "        </tr>\n",
              "        <tr>\n",
              "            <td>Nairobi</td>\n",
              "            <td>4</td>\n",
              "            <td>2</td>\n",
              "        </tr>\n",
              "        <tr>\n",
              "            <td>Nakuru</td>\n",
              "            <td>1</td>\n",
              "            <td>2</td>\n",
              "        </tr>\n",
              "        <tr>\n",
              "            <td>Taita Taveta</td>\n",
              "            <td>1</td>\n",
              "            <td>0</td>\n",
              "        </tr>\n",
              "        <tr>\n",
              "            <td>Turkana</td>\n",
              "            <td>1</td>\n",
              "            <td>0</td>\n",
              "        </tr>\n",
              "    </tbody>\n",
              "</table>"
            ]
          },
          "metadata": {},
          "execution_count": 58
        }
      ]
    },
    {
      "cell_type": "markdown",
      "source": [
        "**i. Get the percentage of students who set their next_of_kin as Mother vs those that set it as Father1. (kin_percentage) :**"
      ],
      "metadata": {
        "id": "3KAFWJE78W7t"
      }
    },
    {
      "cell_type": "code",
      "source": [
        "%%sql SELECT\n",
        "    SUM(CASE WHEN next_of_kin_relation = 'Mother' THEN 1 ELSE 0 END) AS mother_count,\n",
        "    SUM(CASE WHEN next_of_kin_relation = 'Father1' THEN 1 ELSE 0 END) AS father_count,\n",
        "    (SUM(CASE WHEN next_of_kin_relation = 'Mother' THEN 1 ELSE 0 END) * 1.0 / COUNT(*)) * 100 AS mother_percentage,\n",
        "    (SUM(CASE WHEN next_of_kin_relation = 'Father1' THEN 1 ELSE 0 END) * 1.0 / COUNT(*)) * 100 AS father_percentage\n",
        "FROM\n",
        "    contact_details;"
      ],
      "metadata": {
        "colab": {
          "base_uri": "https://localhost:8080/",
          "height": 96
        },
        "id": "yc3nZCl-8dON",
        "outputId": "a81ed34b-810f-4c5e-e524-75c8237aaa51"
      },
      "execution_count": 61,
      "outputs": [
        {
          "output_type": "stream",
          "name": "stdout",
          "text": [
            " * sqlite:///stud_db.db\n",
            "Done.\n"
          ]
        },
        {
          "output_type": "execute_result",
          "data": {
            "text/plain": [
              "[(7, 0, 46.666666666666664, 0.0)]"
            ],
            "text/html": [
              "<table>\n",
              "    <thead>\n",
              "        <tr>\n",
              "            <th>mother_count</th>\n",
              "            <th>father_count</th>\n",
              "            <th>mother_percentage</th>\n",
              "            <th>father_percentage</th>\n",
              "        </tr>\n",
              "    </thead>\n",
              "    <tbody>\n",
              "        <tr>\n",
              "            <td>7</td>\n",
              "            <td>0</td>\n",
              "            <td>46.666666666666664</td>\n",
              "            <td>0.0</td>\n",
              "        </tr>\n",
              "    </tbody>\n",
              "</table>"
            ]
          },
          "metadata": {},
          "execution_count": 61
        }
      ]
    }
  ]
}